{
 "cells": [
  {
   "cell_type": "code",
   "execution_count": null,
   "metadata": {},
   "outputs": [],
   "source": []
  },
  {
   "cell_type": "code",
   "execution_count": null,
   "metadata": {},
   "outputs": [],
   "source": []
  },
  {
   "cell_type": "code",
   "execution_count": null,
   "metadata": {},
   "outputs": [],
   "source": []
  },
  {
   "cell_type": "code",
   "execution_count": 32,
   "metadata": {},
   "outputs": [
    {
     "ename": "TypeError",
     "evalue": "generate_flashcards() missing 1 required positional argument: 'json_file'",
     "output_type": "error",
     "traceback": [
      "\u001b[0;31m---------------------------------------------------------------------------\u001b[0m",
      "\u001b[0;31mTypeError\u001b[0m                                 Traceback (most recent call last)",
      "Cell \u001b[0;32mIn[32], line 1\u001b[0m\n\u001b[0;32m----> 1\u001b[0m \u001b[43mgenerate_flashcards\u001b[49m\u001b[43m(\u001b[49m\u001b[43m)\u001b[49m\n",
      "\u001b[0;31mTypeError\u001b[0m: generate_flashcards() missing 1 required positional argument: 'json_file'"
     ]
    }
   ],
   "source": [
    "generate_flashcards()"
   ]
  },
  {
   "cell_type": "code",
   "execution_count": null,
   "metadata": {},
   "outputs": [],
   "source": [
    "messages = [\n",
    "    {\"role\": \"system\", \"content\": \"You are an AI assistant that generates structured multiple-choice quizzes.\"},\n",
    "    {\n",
    "        \"role\": \"user\",\n",
    "        \"content\": \"\"\"Please generate a multiple-choice test using the questions and answers from the provided JSON file. \n",
    "\n",
    "The output format should be a JSON array where each question follows this structure:\n",
    "\n",
    "[\n",
    "    {\n",
    "        \"question\": \"<question_text>\",\n",
    "        \"options\": [\"<option1>\", \"<option2>\", \"<option3>\", \"<option4>\"],\n",
    "        \"answer\": \"<correct_option>\"\n",
    "    }\n",
    "]\n",
    "\n",
    "Guidelines:\n",
    "1. Each question should have exactly **four** answer choices.\n",
    "2. One of the four options must be the **correct answer**.\n",
    "3. The incorrect options should be **plausible but incorrect**.\n",
    "4. Shuffle the answer choices randomly to ensure variation.\n",
    "\n",
    "Here is the input JSON file containing the raw questions and answers:\n",
    "{json_file}\n",
    "\"\"\"\n",
    "    },\n",
    "]"
   ]
  }
 ],
 "metadata": {
  "kernelspec": {
   "display_name": "Python 3",
   "language": "python",
   "name": "python3"
  },
  "language_info": {
   "codemirror_mode": {
    "name": "ipython",
    "version": 3
   },
   "file_extension": ".py",
   "mimetype": "text/x-python",
   "name": "python",
   "nbconvert_exporter": "python",
   "pygments_lexer": "ipython3",
   "version": "3.12.0"
  }
 },
 "nbformat": 4,
 "nbformat_minor": 2
}
